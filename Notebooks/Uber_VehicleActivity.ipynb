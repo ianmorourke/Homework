{
 "cells": [
  {
   "cell_type": "code",
   "execution_count": 1,
   "metadata": {},
   "outputs": [],
   "source": [
    "import pandas as pd\n",
    "import numpy as np\n",
    "import matplotlib.pyplot as plt\n",
    "%matplotlib inline\n",
    "\n",
    "#Read file to pandas dataframe\n",
    "df = pd.read_csv(\"uber.csv\")"
   ]
  },
  {
   "cell_type": "code",
   "execution_count": 2,
   "metadata": {},
   "outputs": [
    {
     "name": "stdout",
     "output_type": "stream",
     "text": [
      "vehicle_alias  vehicle_activity\n",
      "VEHICLE0010    manual                22\n",
      "               parked                 1\n",
      "VEHICLE0015    autonomous           100\n",
      "               manual               287\n",
      "               parked               207\n",
      "VEHICLE0026    manual              1226\n",
      "               parked                18\n",
      "VEHICLE0030    autonomous           490\n",
      "               manual               715\n",
      "               parked                94\n",
      "VEHICLE0032    autonomous           147\n",
      "               manual                94\n",
      "               parked                 5\n",
      "VEHICLE0036    autonomous           120\n",
      "               manual               236\n",
      "               parked                27\n",
      "VEHICLE0041    manual               679\n",
      "               parked                28\n",
      "VEHICLE0047    autonomous           157\n",
      "               manual               381\n",
      "               parked                53\n",
      "VEHICLE0054    manual               634\n",
      "               parked                23\n",
      "VEHICLE0065    autonomous           179\n",
      "               manual               283\n",
      "               parked                30\n",
      "VEHICLE0067    parked                 1\n",
      "VEHICLE0068    autonomous           576\n",
      "               manual              1038\n",
      "               parked               140\n",
      "                                   ... \n",
      "VEHICLE0117    parked                27\n",
      "VEHICLE0126    manual                33\n",
      "               parked                 4\n",
      "VEHICLE0127    manual                 9\n",
      "               parked                 3\n",
      "VEHICLE0158    autonomous           202\n",
      "               manual               431\n",
      "               parked                83\n",
      "VEHICLE0162    autonomous           479\n",
      "               manual               361\n",
      "               parked                51\n",
      "VEHICLE0165    parked                 3\n",
      "VEHICLE0169    parked                 2\n",
      "VEHICLE0177    autonomous           234\n",
      "               manual               440\n",
      "               parked                50\n",
      "VEHICLE0183    manual               983\n",
      "               parked                26\n",
      "VEHICLE0192    autonomous           501\n",
      "               manual               777\n",
      "               parked               100\n",
      "VEHICLEWXYZ    autonomous             3\n",
      "               manual                 6\n",
      "vehicle0026    manual                 1\n",
      "vehicle0030    manual                 1\n",
      "vehicle0054    manual                 1\n",
      "vehicle0158    parked                 1\n",
      "vehicle0177    manual                 1\n",
      "vehicle0192    autonomous             1\n",
      "               manual                 1\n",
      "Length: 70, dtype: int64\n"
     ]
    }
   ],
   "source": [
    "#Get count of activities for each vehicle\n",
    "print(df. groupby(['vehicle_alias','vehicle_activity']).size())"
   ]
  },
  {
   "cell_type": "code",
   "execution_count": null,
   "metadata": {},
   "outputs": [],
   "source": [
    "#Get counts of vehicle activities (Used to review what vehicles were affected by missing data)\n",
    "print(df. groupby(['vehicle_alias','vehicle_activity']).count())"
   ]
  }
 ],
 "metadata": {
  "kernelspec": {
   "display_name": "Python 3",
   "language": "python",
   "name": "python3"
  },
  "language_info": {
   "codemirror_mode": {
    "name": "ipython",
    "version": 3
   },
   "file_extension": ".py",
   "mimetype": "text/x-python",
   "name": "python",
   "nbconvert_exporter": "python",
   "pygments_lexer": "ipython3",
   "version": "3.7.3"
  }
 },
 "nbformat": 4,
 "nbformat_minor": 2
}
